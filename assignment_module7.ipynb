{
  "cells": [
    {
      "cell_type": "code",
      "execution_count": null,
      "metadata": {
        "id": "1G2DakSzYWDF"
      },
      "outputs": [],
      "source": [
        "# 1) What is programing?\n",
        "#Programming is the process of writing instructions (called code) that a computer can understand and execute to perform specific tasks."
      ]
    },
    {
      "cell_type": "code",
      "execution_count": null,
      "metadata": {
        "id": "S707qpwHiGbF"
      },
      "outputs": [],
      "source": [
        "# 2) What is Python?\n",
        "# Python is a high-level, interpreted programming language that is widely used for general-purpose programming. It was created by Guido van Rossum and first released in 1991.\n",
        "# Easy to Learn and Read: Python uses simple, readable syntax similar to English.\n",
        "#Interpreted Language: You don't need to compile Python code; you can run it directly.\n",
        "# dynamically Typed: You don’t need to declare variable types.\n",
        "#Object-Oriented: Supports classes and objects.\n",
        "#Extensive Libraries: Thousands of built-in and external libraries for data analysis, machine learning, web development, automation, etc.\n",
        "#Cross-platform: Runs on Windows, Mac, Linux, etc.\n",
        "#Open Source: Free to use and distribute"
      ]
    },
    {
      "cell_type": "code",
      "execution_count": null,
      "metadata": {
        "colab": {
          "base_uri": "https://localhost:8080/"
        },
        "id": "cHlRaCNsU69n",
        "outputId": "3cb410b2-581c-42b2-e732-e70016382ce2"
      },
      "outputs": [
        {
          "name": "stdout",
          "output_type": "stream",
          "text": [
            "enter a number :-2\n",
            "-2 is negative\n"
          ]
        }
      ],
      "source": [
        "#3).Write a Python program to check if a number is positive, negative or zero.\n",
        "\n",
        "check = int(input(\"enter a number :\"))\n",
        "\n",
        "if check > 0:\n",
        "  print(f\"{check} is positive number\")\n",
        "elif check < 0:\n",
        "  print(f\"{check} is negative\")\n",
        "else:\n",
        "  print(\"zero\")"
      ]
    },
    {
      "cell_type": "code",
      "execution_count": null,
      "metadata": {
        "colab": {
          "base_uri": "https://localhost:8080/"
        },
        "id": "Kz0Di0n0WAdQ",
        "outputId": "2dd89ebd-ace6-4275-9eef-33c9ce33a45b"
      },
      "outputs": [
        {
          "name": "stdout",
          "output_type": "stream",
          "text": [
            "Enter a number to get factorial :  5\n",
            "The factorial of 5 is 120\n"
          ]
        }
      ],
      "source": [
        "# 4. Write a Python program to get the Factorial number of given numbers.\n",
        "\n",
        "number = int(input('Enter a number to get factorial :  '))\n",
        "\n",
        "if number < 0:\n",
        "  print(\"factorial does not exists for negative numbers.\")\n",
        "\n",
        "elif number == 0:\n",
        "  print(\"the factorial of 0 is 1.\")\n",
        "else:\n",
        "  factorial = 1\n",
        "  for i in range(1,number + 1):\n",
        "    factorial *= i\n",
        "  print(f\"The factorial of {number} is {factorial}\")"
      ]
    },
    {
      "cell_type": "code",
      "execution_count": null,
      "metadata": {
        "colab": {
          "base_uri": "https://localhost:8080/"
        },
        "id": "gNMrK57DTPnY",
        "outputId": "b539745a-d4fa-427e-e2c3-f34c14f9eca1"
      },
      "outputs": [
        {
          "name": "stdout",
          "output_type": "stream",
          "text": [
            "enter a range(upper limit) for fibonacci series : 20\n",
            "fibonacci serice up to 20 is:\n",
            "0 1 1 2 3 5 8 13 "
          ]
        }
      ],
      "source": [
        "# 6. Write a Python program to get the Fibonacci series of given range.\n",
        "\n",
        "fib = int(input(\"enter a range(upper limit) for fibonacci series : \"))\n",
        "a,b = 0,1\n",
        "print(\"fibonacci serice up to\",fib,\"is:\")\n",
        "while a <= fib:\n",
        "  print(a,end=\" \")\n",
        "  a,b = b,a + b"
      ]
    },
    {
      "cell_type": "code",
      "execution_count": null,
      "metadata": {
        "colab": {
          "base_uri": "https://localhost:8080/",
          "height": 88
        },
        "id": "frWvawxhY2ag",
        "outputId": "dbc1e0d9-166f-4541-ae3f-b0de64c9a300"
      },
      "outputs": [
        {
          "data": {
            "application/vnd.google.colaboratory.intrinsic+json": {
              "type": "string"
            },
            "text/plain": [
              "' Python has automatic memory management, which means the Python memory manager takes care of allocating and releasing memory so that programmers don’t have to do it manually\\n1. Private Heap Space\\n\\n2. Memory Allocation\\n\\n3. Garbage Collection\\n\\n4. Dynamic Typing\\n\\n5. Memory Leaks Prevention  '"
            ]
          },
          "execution_count": 33,
          "metadata": {},
          "output_type": "execute_result"
        }
      ],
      "source": [
        "# 7) How memory is managed in Python?\n",
        "\n",
        "\"\"\" Python has automatic memory management, which means the Python memory manager takes care of allocating and releasing memory so that programmers don’t have to do it manually\n",
        "1. Private Heap Space\n",
        "2. Memory Allocation\n",
        "3. Garbage Collection\n",
        "4. Dynamic Typing\n",
        "5. Memory Leaks Prevention  \"\"\"\n",
        "\n"
      ]
    },
    {
      "cell_type": "code",
      "execution_count": null,
      "metadata": {
        "colab": {
          "base_uri": "https://localhost:8080/"
        },
        "id": "AUGqPlvT9bxq",
        "outputId": "f3bdf2b9-6861-4b3d-d5f8-06164ad9b25c"
      },
      "outputs": [
        {
          "name": "stdout",
          "output_type": "stream",
          "text": [
            "enter first variable : 8\n",
            "enter second variable : 9\n",
            "before swapping : a = 8,b = 9\n",
            "after swapping : a = 9, b = 8\n"
          ]
        }
      ],
      "source": [
        "# 9 Write python program that swap two number with temp variable\n",
        "# and without temp variable.\n",
        "\n",
        "a = input(\"enter first variable : \")\n",
        "b = input(\"enter second variable : \")\n",
        "\n",
        "print(f\"before swapping : a = {a},b = {b}\")\n",
        "\n",
        "temp = a\n",
        "a = b\n",
        "b = temp\n",
        "\n",
        "print(f\"after swapping : a = {a}, b = {b}\")\n"
      ]
    },
    {
      "cell_type": "code",
      "execution_count": null,
      "metadata": {
        "id": "KE7Bx4D1_7m3"
      },
      "outputs": [],
      "source": [
        "\n",
        "\n",
        "# 3. What is Python?\n",
        "#Python is a high-level, interpreted, and general-purpose programming language that is:\n",
        "\n",
        "# 1.Easy to learn\n",
        "\n",
        "# 2.Readable (code looks like English)\n",
        "\n",
        "# 3.Powerful and flexible"
      ]
    },
    {
      "cell_type": "code",
      "execution_count": null,
      "metadata": {
        "colab": {
          "base_uri": "https://localhost:8080/"
        },
        "id": "duxSkRvTGAnt",
        "outputId": "94c47efe-20ab-40de-de4c-df0807037549"
      },
      "outputs": [
        {
          "name": "stdout",
          "output_type": "stream",
          "text": [
            "Enter number to check odd/even : 3\n",
            "Given number 3 is odd\n"
          ]
        }
      ],
      "source": [
        "# Write a Python program to find whether a given number is even\n",
        "#or odd, print out an appropriate message to the user.\n",
        "\n",
        "num = int(input(\"Enter number to check odd/even : \"))\n",
        "\n",
        "if num == 0:\n",
        "  print(f\"Given number is zero.\")\n",
        "\n",
        "elif num%2  == 0:\n",
        "  print(f\"Given number {num} is even\")\n",
        "else:\n",
        "  print(f\"Given number {num} is odd\")\n"
      ]
    },
    {
      "cell_type": "code",
      "execution_count": null,
      "metadata": {
        "colab": {
          "base_uri": "https://localhost:8080/"
        },
        "id": "JWOOsnXxGzX2",
        "outputId": "95025752-03da-499a-b053-7c5b91611771"
      },
      "outputs": [
        {
          "name": "stdout",
          "output_type": "stream",
          "text": [
            "enter a string : hello how are you\n",
            " The lenght of the string is 17 \n"
          ]
        }
      ],
      "source": [
        "# 15  Write a Python program to calculate the length of a string.\n",
        "str1 = input(\"enter a string : \")\n",
        "\n",
        "print(f\" The lenght of the string is {len(str1)} \")"
      ]
    },
    {
      "cell_type": "code",
      "execution_count": null,
      "metadata": {
        "colab": {
          "base_uri": "https://localhost:8080/"
        },
        "id": "pPMZt08xJtft",
        "outputId": "08f84351-caa5-4178-d28b-2a7886ade50a"
      },
      "outputs": [
        {
          "name": "stdout",
          "output_type": "stream",
          "text": [
            "Enter first number : 10\n",
            "Enter second number : 20\n",
            "Enter third number : 10\n",
            "10+20+10 = 0\n"
          ]
        }
      ],
      "source": [
        "# 12 Write a Python program to sum of three given integers. However, if\n",
        "#two values are equal sum will be zero.\n",
        "\n",
        "num1 = int(input(\"Enter first number : \"))\n",
        "num2 = int(input(\"Enter second number : \"))\n",
        "num3 = int(input(\"Enter third number : \"))\n",
        "\n",
        "if num1 == num2 or num2 == num3  or num3 == num1 :\n",
        "  print(f\"{num1}+{num2}+{num3} = 0\")\n",
        "\n",
        "else:\n",
        "  total = num1 + num2 + num3\n",
        "  print(f\"{num1} + {num2} + {num3} = {total}\")"
      ]
    },
    {
      "cell_type": "code",
      "execution_count": null,
      "metadata": {
        "colab": {
          "base_uri": "https://localhost:8080/"
        },
        "id": "QO_ZUPTwN3Qd",
        "outputId": "e5f73751-7e96-47cb-fc00-64def0a98be7"
      },
      "outputs": [
        {
          "name": "stdout",
          "output_type": "stream",
          "text": [
            "Enter a first number : 10\n",
            "Enter a second number : 20\n",
            "False\n"
          ]
        }
      ],
      "source": [
        "#13.Write a Python program that will return true if the two given\n",
        "#integer values are equal or their sum or difference is 5.\n",
        "\n",
        "num1 = int(input(\"Enter a first number : \"))\n",
        "num2 = int(input(\"Enter a second number : \"))\n",
        "\n",
        "if num1 == num2 or (num1 + num2 == 5) or (abs(num1 - num2) == 5):\n",
        "  print(True)\n",
        "else:\n",
        "\n",
        "  print(False)\n"
      ]
    },
    {
      "cell_type": "code",
      "execution_count": null,
      "metadata": {
        "colab": {
          "base_uri": "https://localhost:8080/"
        },
        "id": "zPt-VTHsO2xA",
        "outputId": "1a52bbf0-825c-4528-bf0c-2464168f81a2"
      },
      "outputs": [
        {
          "name": "stdout",
          "output_type": "stream",
          "text": [
            "Enter a range : 100\n",
            "The sum of the 100 positive int is : 5050\n"
          ]
        }
      ],
      "source": [
        "# 14. Write a python program to sum of the first n positive integers.\n",
        "num = int(input(\"Enter a range : \"))\n",
        "sum = 0\n",
        "\n",
        "for n in  range(1,num + 1 ):\n",
        "  sum += n\n",
        "\n",
        "print(f\"The sum of the {num} positive int is : {sum}\")\n"
      ]
    },
    {
      "cell_type": "code",
      "execution_count": null,
      "metadata": {
        "colab": {
          "base_uri": "https://localhost:8080/"
        },
        "id": "QGooQ_w9SLnX",
        "outputId": "c17ae550-d5ec-476d-ec6d-43cc99bb4038"
      },
      "outputs": [
        {
          "name": "stdout",
          "output_type": "stream",
          "text": [
            "Enter a string : chiccoosolovakya\n",
            "Enter char : c\n",
            "The count of 'c' in 'chiccoosolovakya' is 3.\n"
          ]
        }
      ],
      "source": [
        "#16. Write a Python program to count the number of characters\n",
        "#(character frequency) in a string\n",
        "\n",
        "str2 = input(\"Enter a string : \")\n",
        "\n",
        "choose_char = input(\"Enter char : \")\n",
        "count_char = str2.count(choose_char)\n",
        "\n",
        "print(f\"The count of '{choose_char}' in '{str2}' is {count_char}.\")\n",
        "\n",
        "\n",
        "\n"
      ]
    },
    {
      "cell_type": "code",
      "execution_count": null,
      "metadata": {
        "id": "6upo4BLVTxA-"
      },
      "outputs": [],
      "source": [
        "# 17) What are negative indexes and why are they used?\n",
        "\n",
        "# In Python, negative indexes are a way to access elements of a list, string, or other sequence types starting from the end instead of the beginning.\n",
        "# Negative indexes are used when:\n",
        "# 1.You want to quickly access elements from the end of a sequence.\n",
        "# 2.You don't want to calculate the length of the sequence to find the last or near-last elements.\n",
        "# 3.It makes the code shorter and more readable.\n"
      ]
    },
    {
      "cell_type": "code",
      "execution_count": null,
      "metadata": {
        "colab": {
          "base_uri": "https://localhost:8080/"
        },
        "id": "ZjEoGr6R1T-1",
        "outputId": "28718887-b634-40e3-df74-2086d8bd6e28"
      },
      "outputs": [
        {
          "name": "stdout",
          "output_type": "stream",
          "text": [
            "Enter a string: apple\n",
            "Enter a substring: p\n",
            "In a Main_str  the count of substring p is 2 .\n"
          ]
        }
      ],
      "source": [
        "#18. Write a Python program to count occurrences of a substring in a string.\n",
        "\n",
        "Main_str = input(\"Enter a string: \")\n",
        "Sub_str = input(\"Enter a substring: \")\n",
        "\n",
        "count_substring = Main_str.count(Sub_str)\n",
        "print(f\"In a Main_str  the count of substring {Sub_str} is {count_substring} .\")"
      ]
    },
    {
      "cell_type": "code",
      "execution_count": null,
      "metadata": {
        "colab": {
          "base_uri": "https://localhost:8080/"
        },
        "id": "VE7mV4uR2yot",
        "outputId": "77bc7229-9ebb-4419-c8f6-1c9397584ed7"
      },
      "outputs": [
        {
          "name": "stdout",
          "output_type": "stream",
          "text": [
            "Enter a sentence : hello how are you.\n",
            "hello:1\n",
            "how:1\n",
            "are:1\n",
            "you.:1\n"
          ]
        }
      ],
      "source": [
        "# 19. Write a Python program to count the occurrences of each word in a given sentence\n",
        "\n",
        "sentence = input(\"Enter a sentence : \")\n",
        "words = sentence.split()\n",
        "\n",
        "for word in words:\n",
        "  count = words.count(word)\n",
        "  print(f\"{word}:{count}\")"
      ]
    },
    {
      "cell_type": "code",
      "execution_count": null,
      "metadata": {
        "colab": {
          "base_uri": "https://localhost:8080/"
        },
        "id": "5lhwtY1c5dK1",
        "outputId": "316fbe73-f3fd-41ec-b4cb-8d65d4e39a23"
      },
      "outputs": [
        {
          "name": "stdout",
          "output_type": "stream",
          "text": [
            "Enter the first  string  :hello how are you\n",
            "Enter th second string :iohh thats good\n",
            "hello how are you  iohh thats good\n"
          ]
        }
      ],
      "source": [
        "# 20) Write a Python program to get a single string from two given strings,\n",
        "#separated by a space and swap the first two characters of each string.\n",
        "\n",
        "string1 = input(\"Enter the first  string  :\")\n",
        "string2 = input(\"Enter th second string :\")\n",
        "\n",
        "new_str = string1 +\"  \" +  string2\n",
        "print(new_str)\n"
      ]
    },
    {
      "cell_type": "code",
      "execution_count": null,
      "metadata": {
        "colab": {
          "base_uri": "https://localhost:8080/"
        },
        "id": "ZiZotplM8-DR",
        "outputId": "797c9966-f447-41d7-e052-016fa4bed9a5"
      },
      "outputs": [
        {
          "name": "stdout",
          "output_type": "stream",
          "text": [
            "Enter a string : feeling\n",
            "newstring :  feelingly\n"
          ]
        }
      ],
      "source": [
        "# 21) Write a Python program to add 'in' at the end of a given string (length\n",
        "#should be at least 3). If the given string already ends with 'ing' then\n",
        "#add 'ly' instead if the string length of the given string is less than 3,\n",
        "#leave it unchanged.\n",
        "\n",
        "\n",
        "sentence = input(\"Enter a string : \")\n",
        "\n",
        "if len(sentence) < 3:\n",
        "  result = sentence\n",
        "\n",
        "elif sentence.endswith(\"ing\"):\n",
        "  result = sentence + \"ly\"\n",
        "\n",
        "else:\n",
        "  result = sentence + \"in\"\n",
        "\n",
        "print(\"newstring : \" , result)"
      ]
    },
    {
      "cell_type": "code",
      "execution_count": null,
      "metadata": {
        "id": "OvKMORMuHLSj"
      },
      "outputs": [],
      "source": []
    },
    {
      "cell_type": "code",
      "execution_count": null,
      "metadata": {
        "colab": {
          "base_uri": "https://localhost:8080/"
        },
        "id": "0Gyfnjk6EvCT",
        "outputId": "b716b8a3-6dd2-4fb9-8b5f-98dce4d81107"
      },
      "outputs": [
        {
          "name": "stdout",
          "output_type": "stream",
          "text": [
            "enter a sentence : ajay\n",
            "yaja\n"
          ]
        }
      ],
      "source": [
        "# 22) Write a Python function to reverses a string if its length is a multiple\n",
        "#of 4.\n",
        "\n",
        "def reverse(sentence):\n",
        "  if len(sentence)%4 ==  0:\n",
        "    return sentence[::-1]\n",
        "  else:\n",
        "    return sentence\n",
        "sentence = input(\"enter a sentence : \")\n",
        "result = reverse(sentence)\n",
        "print(result)\n"
      ]
    },
    {
      "cell_type": "code",
      "execution_count": null,
      "metadata": {
        "colab": {
          "base_uri": "https://localhost:8080/"
        },
        "id": "f3Mg_mIbGvEX",
        "outputId": "070ccb32-606a-49fd-ef0e-33deca242e93"
      },
      "outputs": [
        {
          "name": "stdout",
          "output_type": "stream",
          "text": [
            "Enter first string : ajay shirsath\n",
            "Result :  ajth\n"
          ]
        }
      ],
      "source": [
        "\"\"\"23 Write a Python program to get a string made of the first 2 and the last\n",
        "2 chars from a given a string. If the string length is less than 2, return\n",
        "instead of the empty string. \"\"\"\n",
        "\n",
        "\n",
        "str1 = input(\"Enter first string : \")\n",
        "\n",
        "if len(str1) < 2:\n",
        "  print(\"Result: \")\n",
        "else:\n",
        "\n",
        "\n",
        "\n",
        " new_str = str1[:2] + str2[-2:]\n",
        "print(\"Result : \",new_str)\n",
        "\n"
      ]
    },
    {
      "cell_type": "code",
      "execution_count": null,
      "metadata": {
        "colab": {
          "base_uri": "https://localhost:8080/"
        },
        "id": "4_-ovi7YLIp2",
        "outputId": "54605b10-afaa-46d5-d8a3-15c473d2628e"
      },
      "outputs": [
        {
          "name": "stdout",
          "output_type": "stream",
          "text": [
            "Enter a  main string :ajayshirsath\n",
            "Enter a string to insert :jitendra\n",
            "result: ajaysh jitendra irsath\n"
          ]
        }
      ],
      "source": [
        "\n",
        "#  24) Write a Python function to insert a string in the middle of a string\n",
        "\n",
        "def insert_middle(main_string,insert_middle):\n",
        "  words = main_string.split()\n",
        "\n",
        "  middle_index = len(main_string) // 2\n",
        "\n",
        "  result = main_string[:middle_index] + ' ' + insert_middle + ' ' + main_string[middle_index:]\n",
        "  return result\n",
        "\n",
        "main_string = input(\"Enter a  main string :\")\n",
        "insert = input(\"Enter a string to insert :\")\n",
        "result = insert_middle(main_string,insert)\n",
        "print(\"result:\",result)\n",
        "\n"
      ]
    },
    {
      "cell_type": "code",
      "execution_count": null,
      "metadata": {
        "colab": {
          "base_uri": "https://localhost:8080/"
        },
        "id": "IErE_EQzO7Lf",
        "outputId": "60ef2c60-6b48-44f5-8c34-d8470fee550e"
      },
      "outputs": [
        {
          "name": "stdout",
          "output_type": "stream",
          "text": [
            "[6, 5, 4, 3, 2, 1]\n"
          ]
        }
      ],
      "source": [
        "#  What is List? How will you reverse a list?\n",
        "\n",
        "#A list in Python is a collection of items that are ordered, changeable (mutable), and allow duplicate elements.\n",
        "#Lists can store elements of different data types like integers, strings, floats, or even other lists.\n",
        "\n",
        "rev1 = [1,2,3,4,5,6]\n",
        "rev1.reverse()\n",
        "print(rev1)\n",
        "\n"
      ]
    },
    {
      "cell_type": "code",
      "execution_count": null,
      "metadata": {
        "colab": {
          "base_uri": "https://localhost:8080/"
        },
        "id": "GWPwYUrQ8X2X",
        "outputId": "71f4e3dd-afc3-4c88-a310-8cbacf7ad7a7"
      },
      "outputs": [
        {
          "data": {
            "text/plain": [
              "[1, 2, 3, 4, 5, 6]"
            ]
          },
          "execution_count": 5,
          "metadata": {},
          "output_type": "execute_result"
        }
      ],
      "source": [
        "#26) How will you remove last object from a list?\n",
        "\n",
        "list1 = [1,2,3,4,5,6,7]\n",
        "list1.pop()\n",
        "list1"
      ]
    },
    {
      "cell_type": "code",
      "execution_count": null,
      "metadata": {
        "colab": {
          "base_uri": "https://localhost:8080/"
        },
        "id": "fT-rXPTy8ezW",
        "outputId": "46deef6a-59ab-4d79-ce10-ea1a54054466"
      },
      "outputs": [
        {
          "data": {
            "text/plain": [
              "33"
            ]
          },
          "execution_count": 6,
          "metadata": {},
          "output_type": "execute_result"
        }
      ],
      "source": [
        "# 27) Suppose list1 is [2, 33, 222, 14, and 25], what is list1 [1]?\n",
        "\n",
        "list1 = [2,33,222,14,25]\n",
        "list1[1]"
      ]
    },
    {
      "cell_type": "code",
      "execution_count": null,
      "metadata": {
        "id": "wd9UHLkV8y9x"
      },
      "outputs": [],
      "source": [
        "# its the index of list its start with index 0"
      ]
    },
    {
      "cell_type": "code",
      "execution_count": null,
      "metadata": {
        "colab": {
          "base_uri": "https://localhost:8080/"
        },
        "id": "fuT3jVZB9FNx",
        "outputId": "f029ca20-4034-43e3-a423-5e0e296cb197"
      },
      "outputs": [
        {
          "data": {
            "text/plain": [
              "['apple', 'banana', 'cherry', 'papaya']"
            ]
          },
          "execution_count": 9,
          "metadata": {},
          "output_type": "execute_result"
        }
      ],
      "source": [
        "# Differentiate between append () and extend () methods?\n",
        "\n",
        "#append adds a single element in the end.\n",
        "\n",
        "list1 = ['apple','banana','cherry']\n",
        "list2 = 'papaya'\n",
        "list1.append(list2)\n",
        "list1"
      ]
    },
    {
      "cell_type": "code",
      "execution_count": null,
      "metadata": {
        "colab": {
          "base_uri": "https://localhost:8080/"
        },
        "id": "i-TQwJnF9ZD8",
        "outputId": "120966dc-7025-48e1-e43b-d950333eeb8b"
      },
      "outputs": [
        {
          "name": "stdout",
          "output_type": "stream",
          "text": [
            "[1, 2, 3, 4, 5]\n"
          ]
        }
      ],
      "source": [
        "#extend\n",
        " # adds all elements from another iterable to the end of the list\n",
        "list1  = [1,2,3]\n",
        "list2 = ([4,5])\n",
        "list1.extend(list2)\n",
        "print(list1)"
      ]
    },
    {
      "cell_type": "code",
      "execution_count": null,
      "metadata": {
        "colab": {
          "base_uri": "https://localhost:8080/"
        },
        "id": "NA80IZds99bq",
        "outputId": "3e15e86f-3688-44d8-dd27-ae0e1d022b5d"
      },
      "outputs": [
        {
          "name": "stdout",
          "output_type": "stream",
          "text": [
            "largets number:  301\n",
            "Smallest number :  10\n",
            "sum of all numbers :  1113\n"
          ]
        }
      ],
      "source": [
        "# 29) Write a Python function to get the largest number, smallest num and sum of all from a list.\n",
        "list1 = [10,20,30,50,70,90,110,102,220,301,50,60]\n",
        "\n",
        "print(\"largets number: \",max(list1))\n",
        "print(\"Smallest number : \",min(list1))\n",
        "print(\"sum of all numbers : \",sum(list1))"
      ]
    },
    {
      "cell_type": "code",
      "execution_count": null,
      "metadata": {
        "colab": {
          "base_uri": "https://localhost:8080/"
        },
        "id": "clONqJx7-yY8",
        "outputId": "2ba2276d-14d7-4f7e-9dcd-88bbec145c2e"
      },
      "outputs": [
        {
          "name": "stdout",
          "output_type": "stream",
          "text": [
            "False\n"
          ]
        }
      ],
      "source": [
        "# 30) How will you compare two lists?\n",
        "\n",
        "list1 = [10,20,30,40,50,60,70]\n",
        "list2 = [\"apple\",\"banana\",\"cherry\",\"mango\"]\n",
        "\n",
        "print(list1 == list2)"
      ]
    },
    {
      "cell_type": "code",
      "execution_count": null,
      "metadata": {
        "id": "tgW2xLgn_qw_"
      },
      "outputs": [],
      "source": [
        "#31) Write a Python program to count the number of strings where the stringlength is 2 or more and the first and last character are same from a given list\n",
        "#of strings.\n",
        "\n",
        "string1 = input(\"Enter a string : \")\n",
        "\n",
        "if len(string1) >= 2 or :\n"
      ]
    },
    {
      "cell_type": "code",
      "execution_count": null,
      "metadata": {
        "colab": {
          "base_uri": "https://localhost:8080/"
        },
        "id": "WCJ8L8ZURfnr",
        "outputId": "9abed783-6822-491d-9c27-58b8649274d7"
      },
      "outputs": [
        {
          "name": "stdout",
          "output_type": "stream",
          "text": [
            "list without duplicate :  ['cherry', 'banana', 'mango', 'leachy', 'apple']\n"
          ]
        }
      ],
      "source": [
        "#32. Write a Python program to remove duplicates from a list.\n",
        "\n",
        "Remove_dup = [\"apple\",\"banana\",\"cherry\",\"mango\",\"apple\",\"leachy\"]\n",
        "\n",
        "new_list = list(set(Remove_dup))\n",
        "print(\"list without duplicate : \",new_list)\n"
      ]
    },
    {
      "cell_type": "code",
      "execution_count": null,
      "metadata": {
        "colab": {
          "base_uri": "https://localhost:8080/"
        },
        "id": "LBGUP3D-SSPw",
        "outputId": "2ecc6ae4-e961-46f1-a23b-c1c650294b7c"
      },
      "outputs": [
        {
          "name": "stdout",
          "output_type": "stream",
          "text": [
            "given list is empty !!!!\n"
          ]
        }
      ],
      "source": [
        "# 33. Write a Python program to check a list is empty or not.\n",
        "\n",
        "list1 = []\n",
        "\n",
        "if len(list1) == 0:\n",
        "  print(\"given list is empty !!!!\")\n",
        "\n",
        "else:\n",
        "  print(\"list have some values....\")"
      ]
    },
    {
      "cell_type": "code",
      "execution_count": null,
      "metadata": {
        "colab": {
          "base_uri": "https://localhost:8080/"
        },
        "id": "gqPA7y-3S6aJ",
        "outputId": "673d08a8-afe2-4c73-b2e4-89cf00610a5e"
      },
      "outputs": [
        {
          "name": "stdout",
          "output_type": "stream",
          "text": [
            "Do they have common value :  True\n"
          ]
        }
      ],
      "source": [
        "# 34) Write a Python function that takes two lists and returns true if they have at least one common member.\n",
        "\n",
        "def common_member(list1,list2):\n",
        "  for item in list1:\n",
        "    if item in list2:\n",
        "      return True\n",
        "  return False\n",
        "\n",
        "list1 = [10,20,30,40,50,60,70,90,80]\n",
        "list2 = [100,200,300,400,10,20,600,700]\n",
        "\n",
        "result = common_member(list1,list2)\n",
        "print(\"Do they have common value : \",result)"
      ]
    },
    {
      "cell_type": "code",
      "execution_count": null,
      "metadata": {
        "colab": {
          "base_uri": "https://localhost:8080/"
        },
        "id": "2hnXdPhpWXfz",
        "outputId": "5e5c07b2-48e2-4abe-f524-667f66a8bfaf"
      },
      "outputs": [
        {
          "name": "stdout",
          "output_type": "stream",
          "text": [
            "first 5 elements :  [1, 4, 9, 16, 25]\n",
            "last 5 elements :  [676, 729, 784, 841, 900]\n"
          ]
        }
      ],
      "source": [
        "# 35) Write a Python program to generate and print a list of first and last 5 elements where the values are square of numbers between 1 and 30.\n",
        "\n",
        "squares = [x**2 for x in range(1,31)]\n",
        "\n",
        "first_five = squares[:5]\n",
        "last_five = squares[-5:]\n",
        "\n",
        "print(\"first 5 elements : \",first_five)\n",
        "print(\"last 5 elements : \" , last_five)"
      ]
    },
    {
      "cell_type": "code",
      "execution_count": 3,
      "metadata": {
        "colab": {
          "base_uri": "https://localhost:8080/"
        },
        "id": "L0hFqA97XxvL",
        "outputId": "f8440247-e708-493c-ad58-67c0eddaaef8"
      },
      "outputs": [
        {
          "name": "stdout",
          "output_type": "stream",
          "text": [
            "original list:  [10, 20, 30, 40, 10, 50, 40, 50, 7, 80, 40, 10, 20, 60]\n",
            "unique list :  [10, 20, 30, 40, 50, 7, 80, 60]\n"
          ]
        }
      ],
      "source": [
        "# 36) Write a Python function that takes a list and returns a new list with\n",
        "# unique elements of the first list.\n",
        "\n",
        "def unique_element(input_list):\n",
        "  unique_list = []\n",
        "  for item in input_list:\n",
        "    if item not in unique_list:\n",
        "      unique_list.append(item)\n",
        "\n",
        "  return unique_list\n",
        "\n",
        "list1 = [10,20,30,40,10,50,40,50,7,80,40,10,20,60]\n",
        "result = unique_element(list1)\n",
        "print(\"original list: \",list1)\n",
        "print(\"unique list : \",result)"
      ]
    },
    {
      "cell_type": "code",
      "execution_count": 10,
      "metadata": {
        "colab": {
          "base_uri": "https://localhost:8080/"
        },
        "id": "wuJoEo-BC9YI",
        "outputId": "d69621d5-53ed-482d-e2d9-62e136498c65"
      },
      "outputs": [
        {
          "name": "stdout",
          "output_type": "stream",
          "text": [
            "original list :  ['a', 'b', 'c', 'd', 'e', 'f']\n",
            "converted string :  abcdef\n",
            "type of result :  <class 'str'>\n"
          ]
        }
      ],
      "source": [
        "# 37) Write a Python program to convert a list of characters into a string.\n",
        "\n",
        "list1 = [\"a\",\"b\",\"c\",\"d\",\"e\",\"f\"]\n",
        "\n",
        "result = ''.join(list1)\n",
        "print(\"original list : \",list1)\n",
        "print(\"converted string : \",result)\n",
        "print(\"type of result : \",type(result))\n"
      ]
    },
    {
      "cell_type": "code",
      "execution_count": 12,
      "metadata": {
        "colab": {
          "base_uri": "https://localhost:8080/"
        },
        "id": "nFvvJqWvFMW2",
        "outputId": "96b8b763-fe62-4d58-d1d5-29a625cd6677"
      },
      "outputs": [
        {
          "name": "stdout",
          "output_type": "stream",
          "text": [
            "Random selectd item :  Banana\n"
          ]
        }
      ],
      "source": [
        "# 38) Write a Python program to select an item randomly from a list.\n",
        "\n",
        "import random\n",
        "\n",
        "list1 = [\"Apple\",\"Banana\",\"Cherry\",\"Mango\"]\n",
        "\n",
        "random = random.choice(list1)\n",
        "print(\"Random selectd item : \",random)"
      ]
    },
    {
      "cell_type": "code",
      "execution_count": 27,
      "metadata": {
        "colab": {
          "base_uri": "https://localhost:8080/"
        },
        "id": "iEyjco_PH9Ff",
        "outputId": "03d13ef6-2e11-454e-e11b-b98c865d2ad1"
      },
      "outputs": [
        {
          "name": "stdout",
          "output_type": "stream",
          "text": [
            "second smallest number is :  3\n"
          ]
        }
      ],
      "source": [
        "# 39) Write a Python program to find the second smallest number in a list.\n",
        "\n",
        "def find_second_smallest(numbers):\n",
        "\n",
        "  unique_numbers = list(set(numbers))\n",
        "\n",
        "  if len(unique_numbers) < 2:\n",
        "    return \"list must contain at least two unique numbers .\"\n",
        "\n",
        "  unique_numbers.sort()\n",
        "\n",
        "  return unique_numbers[1]\n",
        "\n",
        "\n",
        "\n",
        "my_list = [10,5,2,8,3,2,5,6]\n",
        "result = find_second_smallest(my_list)\n",
        "\n",
        "print(\"second smallest number is : \",result)\n",
        "\n"
      ]
    },
    {
      "cell_type": "code",
      "execution_count": 34,
      "metadata": {
        "colab": {
          "base_uri": "https://localhost:8080/"
        },
        "id": "xj645Pk1KIYA",
        "outputId": "8732b77d-545e-4c59-c236-5479c6a21919"
      },
      "outputs": [
        {
          "name": "stdout",
          "output_type": "stream",
          "text": [
            "unique list is :  [2, 5, 40, 10, 205, 50, 690, 20, 22, 220, 30]\n"
          ]
        }
      ],
      "source": [
        "# 40) Write a Python program to get unique values from a list\n",
        "\n",
        "def the_unique_numbers(my_list):\n",
        "\n",
        "\n",
        "  unique_list = list(set(my_list))\n",
        "\n",
        "\n",
        "  print(\"unique list is : \", unique_list)\n",
        "list1 = [10,20,30,40,10,50,50,690,40,50,205,22,2,5,50,40,220]\n",
        "\n",
        "the_unique_numbers(list1)\n"
      ]
    },
    {
      "cell_type": "code",
      "execution_count": 36,
      "metadata": {
        "colab": {
          "base_uri": "https://localhost:8080/"
        },
        "id": "ffd-HeI6MTO0",
        "outputId": "ed63ba97-451a-45ab-9799-ae5c4ac8eff3"
      },
      "outputs": [
        {
          "name": "stdout",
          "output_type": "stream",
          "text": [
            "Sublist found? True\n"
          ]
        }
      ],
      "source": [
        "# 41) Write a Python program to check whether a list contains a sub list\n",
        "\n",
        "def is_sublist(main_list, sub_list):\n",
        "    sub_len = len(sub_list)\n",
        "\n",
        "    if sub_len == 0:\n",
        "        return True\n",
        "\n",
        "\n",
        "    for i in range(len(main_list) - sub_len + 1):\n",
        "        if main_list[i:i+sub_len] == sub_list:\n",
        "            return True\n",
        "    return False\n",
        "\n",
        "\n",
        "main_list = [10, 20, 30, 40, 50, 60]\n",
        "sub_list = [30, 40]\n",
        "\n",
        "result = is_sublist(main_list, sub_list)\n",
        "print(\"Sublist found?\" , result)\n",
        "\n",
        "\n"
      ]
    },
    {
      "cell_type": "code",
      "execution_count": 38,
      "metadata": {
        "colab": {
          "base_uri": "https://localhost:8080/"
        },
        "id": "aKmh9KkqN8uy",
        "outputId": "0e1a61fb-5fad-401b-843f-20320734d97b"
      },
      "outputs": [
        {
          "name": "stdout",
          "output_type": "stream",
          "text": [
            "a : 10\n",
            "b : 20\n",
            "c : 30\n",
            "d : 40\n",
            "e : 50\n"
          ]
        }
      ],
      "source": [
        "#42) Write a Python program to split a list into different variables.\n",
        "\n",
        "list1 = [10,20,30,40,50]\n",
        "\n",
        "a,b,c,d,e  = list1\n",
        "\n",
        "print(\"a :\",a)\n",
        "print(\"b :\",b)\n",
        "print(\"c :\",c)\n",
        "print(\"d :\",d)\n",
        "print(\"e :\",e)\n",
        "\n"
      ]
    },
    {
      "cell_type": "code",
      "execution_count": 39,
      "metadata": {
        "id": "MoZyFQ15O3Lo"
      },
      "outputs": [],
      "source": [
        "# 43) What is tuple? Difference between list and tuple.\n",
        "\n",
        "#A tuple is a built-in data structure in Python used to store multiple items in a single variable.\n",
        "#Tuples are ordered\n",
        "#Tuples are immutable (cannot be changed after creation)\n",
        "#Tuples can contain duplicate values\n",
        "#Elements can be of different data type.\n",
        "\n",
        "#List is mutable → you can change, add, or remove items.\n",
        "#Tuple is immutable → you cannot change, add, or remove items.\n",
        "\n",
        "#List uses square brackets → [ ]\n",
        "#Tuple uses parentheses → ( )\n",
        "\n",
        "#List is slower in performance\n",
        "#Tuple is faster in performance\n",
        "\n",
        "#List uses more memory\n",
        "#Tuple uses less memory\n",
        "\n",
        "#List has more built-in methods (like append(), remove()...)\n",
        "#Tuple has fewer built-in methods\n",
        "\n",
        "#List is suitable when data can change\n",
        "#Tuple is suitable when data should remain constant\n",
        "\n",
        "#List is not hashable (can’t be used as dictionary keys)\n",
        "#Tuple is hashable (can be used as dictionary keys)\n"
      ]
    },
    {
      "cell_type": "code",
      "execution_count": 44,
      "metadata": {
        "colab": {
          "base_uri": "https://localhost:8080/"
        },
        "id": "S4S-vKbZPnrA",
        "outputId": "c224dfed-4872-4263-fef4-73a21cc4132d"
      },
      "outputs": [
        {
          "name": "stdout",
          "output_type": "stream",
          "text": [
            "tuple with diffrent data types :\n",
            "(101, 'ajay', 45.67, True, [1, 2, 3, 4], {'city': 'pune'})\n",
            "value:101,type:<class 'int'>\n",
            "value:ajay,type:<class 'str'>\n",
            "value:45.67,type:<class 'float'>\n",
            "value:True,type:<class 'bool'>\n",
            "value:[1, 2, 3, 4],type:<class 'list'>\n",
            "value:{'city': 'pune'},type:<class 'dict'>\n"
          ]
        }
      ],
      "source": [
        "# 44) Write a Python program to create a tuple with different data types.\n",
        "\n",
        "my_tuple = (101,\"ajay\",45.67,True,[1,2,3,4],{\"city\":\"pune\"})\n",
        "print(\"tuple with diffrent data types :\")\n",
        "print(my_tuple)\n",
        "\n",
        "for item in my_tuple:\n",
        "  print(f\"value:{item},type:{type(item)}\")\n",
        "\n"
      ]
    },
    {
      "cell_type": "code",
      "execution_count": 45,
      "metadata": {
        "colab": {
          "base_uri": "https://localhost:8080/"
        },
        "id": "r-09OU51P39K",
        "outputId": "510e333c-eaa2-46f5-8ea5-ef6fcc7e046c"
      },
      "outputs": [
        {
          "name": "stdout",
          "output_type": "stream",
          "text": [
            "IDs: [1, 2, 3]\n",
            "Names: ['Ajay', 'Rahul', 'Sneha']\n"
          ]
        }
      ],
      "source": [
        "# 45) Write a Python program to unzip a list of tuples into individual lists.\n",
        "\n",
        "\n",
        "list_of_tuples = [(1, 'Ajay'), (2, 'Rahul'), (3, 'Sneha')]\n",
        "\n",
        "ids, names = zip(*list_of_tuples)\n",
        "\n",
        "ids = list(ids)\n",
        "names = list(names)\n",
        "\n",
        "\n",
        "print(\"IDs:\", ids)\n",
        "print(\"Names:\", names)\n"
      ]
    },
    {
      "cell_type": "code",
      "execution_count": 46,
      "metadata": {
        "colab": {
          "base_uri": "https://localhost:8080/"
        },
        "id": "6yl05noOQ1pr",
        "outputId": "cafd3bf4-7a45-4bfb-aeaa-1e6580c300aa"
      },
      "outputs": [
        {
          "name": "stdout",
          "output_type": "stream",
          "text": [
            "Dictionary: {'name': 'Ajay', 'age': 25, 'city': 'surat'}\n"
          ]
        }
      ],
      "source": [
        "# 46) Write a Python program to convert a list of tuples into a dictionary.\n",
        "\n",
        "list_of_tuples = [(\"name\", \"Ajay\"), (\"age\", 25), (\"city\", \"surat\")]\n",
        "\n",
        "my_dict = dict(list_of_tuples)\n",
        "print(\"Dictionary:\", my_dict)\n"
      ]
    },
    {
      "cell_type": "code",
      "execution_count": 47,
      "metadata": {
        "colab": {
          "base_uri": "https://localhost:8080/"
        },
        "id": "q23Ttl32RFQs",
        "outputId": "eff1b19a-31c0-49b6-9a6b-c9601cdc51b8"
      },
      "outputs": [
        {
          "name": "stdout",
          "output_type": "stream",
          "text": [
            "Dictionary: {'name': 'Ajay', 'age': 25, 'city': 'surat'}\n"
          ]
        }
      ],
      "source": [
        "# 47) How will you create a dictionary using tuples in python?\n",
        "list_of_tuples = [(\"name\", \"Ajay\"), (\"age\", 25), (\"city\", \"surat\")]\n",
        "\n",
        "my_dict = dict(list_of_tuples)\n",
        "print(\"Dictionary:\", my_dict)\n"
      ]
    },
    {
      "cell_type": "code",
      "execution_count": 50,
      "metadata": {
        "colab": {
          "base_uri": "https://localhost:8080/"
        },
        "id": "g_Cxxn4mRXHg",
        "outputId": "3ccc50ad-fbff-42ca-e4b6-e6db458a5e7e"
      },
      "outputs": [
        {
          "name": "stdout",
          "output_type": "stream",
          "text": [
            "Ascending: {'banana': 5, 'apple': 10, 'mango': 15, 'cherry': 20}\n",
            "Descending: {'cherry': 20, 'mango': 15, 'apple': 10, 'banana': 5}\n"
          ]
        }
      ],
      "source": [
        "# 48) Write a Python script to sort (ascending and descending) a dictionary by value.\n",
        "\n",
        "\n",
        "\n",
        "my_dict = {'apple': 10, 'banana': 5, 'cherry': 20, 'mango': 15}\n",
        "\n",
        "# Sorting dictionary by value in ascending order\n",
        "asc_sorted = dict(sorted(my_dict.items(), key=lambda item: item[1]))\n",
        "print(\"Ascending:\", asc_sorted)\n",
        "\n",
        "# Sorting dictionary by value in descending order\n",
        "desc_sorted = dict(sorted(my_dict.items(), key=lambda item: item[1], reverse=True))\n",
        "print(\"Descending:\", desc_sorted)\n",
        "\n",
        "\n"
      ]
    },
    {
      "cell_type": "code",
      "execution_count": 51,
      "metadata": {
        "colab": {
          "base_uri": "https://localhost:8080/"
        },
        "id": "RoxOCHwFSont",
        "outputId": "60f87789-d6cf-41b1-9a15-50d6a32be2a5"
      },
      "outputs": [
        {
          "name": "stdout",
          "output_type": "stream",
          "text": [
            "Concatenated Dictionary: {'a': 10, 'b': 20, 'c': 30, 'd': 40, 'e': 50, 'f': 60}\n"
          ]
        }
      ],
      "source": [
        "\n",
        "#49) Write a Python script to concatenate following dictionaries to create a new one.\n",
        "dict1 = {'a': 10, 'b': 20}\n",
        "dict2 = {'c': 30, 'd': 40}\n",
        "dict3 = {'e': 50, 'f': 60}\n",
        "\n",
        "# Concatenate dictionaries\n",
        "result = {**dict1, **dict2, **dict3}\n",
        "\n",
        "print(\"Concatenated Dictionary:\", result)\n",
        "\n",
        "\n",
        "\n"
      ]
    },
    {
      "cell_type": "code",
      "execution_count": 52,
      "metadata": {
        "colab": {
          "base_uri": "https://localhost:8080/"
        },
        "id": "PjjQ3XryTAij",
        "outputId": "26be3bfb-506f-402d-d0d8-25911145d440"
      },
      "outputs": [
        {
          "name": "stdout",
          "output_type": "stream",
          "text": [
            "✅ Key 'age' exists in the dictionary.\n"
          ]
        }
      ],
      "source": [
        "# 50) Write a Python script to check if a given key already exists in a dictionary.\n",
        "\n",
        "my_dict = {'name': 'Ajay', 'age': 25, 'city': 'surat'}\n",
        "\n",
        "key_to_check = 'age'\n",
        "\n",
        "if key_to_check in my_dict:\n",
        "    print(f\"✅ Key '{key_to_check}' exists in the dictionary.\")\n",
        "else:\n",
        "    print(f\"❌ Key '{key_to_check}' does not exist in the dictionary.\")\n",
        "\n"
      ]
    },
    {
      "cell_type": "code",
      "execution_count": 53,
      "metadata": {
        "colab": {
          "base_uri": "https://localhost:8080/"
        },
        "id": "wQ89e6nfTe1o",
        "outputId": "ec3250b2-ef34-4330-8bb6-ba7843a4d7bf"
      },
      "outputs": [
        {
          "name": "stdout",
          "output_type": "stream",
          "text": [
            "Key: name, Value: Ajay\n",
            "Key: age, Value: 25\n",
            "Key: city, Value: surat\n"
          ]
        }
      ],
      "source": [
        "# 51) How Do You Traverse Through a Dictionary Object in Python?\n",
        "\n",
        "my_dict = {'name': 'Ajay', 'age': 25, 'city': 'surat'}\n",
        "\n",
        "for key, value in my_dict.items():\n",
        "    print(f\"Key: {key}, Value: {value}\")\n",
        "\n"
      ]
    },
    {
      "cell_type": "code",
      "execution_count": 54,
      "metadata": {
        "colab": {
          "base_uri": "https://localhost:8080/"
        },
        "id": "ZwCJRU_ZT0HA",
        "outputId": "4a2a6c4d-db2f-47ed-e702-5520c808e83b"
      },
      "outputs": [
        {
          "name": "stdout",
          "output_type": "stream",
          "text": [
            "✅ Key 'age' exists in the dictionary.\n"
          ]
        }
      ],
      "source": [
        "# 52) How Do You Check the Presence of a Key in A Dictionary?\n",
        "\n",
        "\n",
        "my_dict = {'name': 'Ajay', 'age': 25, 'city': 'surat'}\n",
        "\n",
        "if 'age' in my_dict:\n",
        "    print(\"✅ Key 'age' exists in the dictionary.\")\n",
        "else:\n",
        "    print(\"❌ Key 'age' does not exist.\")\n"
      ]
    },
    {
      "cell_type": "code",
      "execution_count": 55,
      "metadata": {
        "colab": {
          "base_uri": "https://localhost:8080/"
        },
        "id": "HWJT0Gz4T-k9",
        "outputId": "0c77ea84-9248-49dc-9e9f-9e474e058036"
      },
      "outputs": [
        {
          "name": "stdout",
          "output_type": "stream",
          "text": [
            "Dictionary with keys 1 to 15 and square values:\n",
            "{1: 1, 2: 4, 3: 9, 4: 16, 5: 25, 6: 36, 7: 49, 8: 64, 9: 81, 10: 100, 11: 121, 12: 144, 13: 169, 14: 196, 15: 225}\n"
          ]
        }
      ],
      "source": [
        "# 53) Write a Python script to print a dictionary where the keys are numbers between 1 and 15.\n",
        "\n",
        "\n",
        "my_dict = {x: x**2 for x in range(1, 16)}\n",
        "\n",
        "print(\"Dictionary with keys 1 to 15 and square values:\")\n",
        "print(my_dict)\n"
      ]
    },
    {
      "cell_type": "code",
      "execution_count": 56,
      "metadata": {
        "colab": {
          "base_uri": "https://localhost:8080/"
        },
        "id": "2ai25E9PUK8p",
        "outputId": "7b4781df-caeb-4a9a-804b-6f3671ffdaef"
      },
      "outputs": [
        {
          "name": "stdout",
          "output_type": "stream",
          "text": [
            "✅ All keys exist in the dictionary.\n"
          ]
        }
      ],
      "source": [
        "# 54) Write a Python program to check multiple keys exists in a dictionary\n",
        "\n",
        "my_dict = {'name': 'Ajay', 'age': 25, 'city': 'surat'}\n",
        "\n",
        "keys_to_check = ['name', 'age']\n",
        "\n",
        "if all(key in my_dict for key in keys_to_check):\n",
        "    print(\"✅ All keys exist in the dictionary.\")\n",
        "else:\n",
        "    print(\"❌ Some keys are missing.\")\n",
        "\n"
      ]
    },
    {
      "cell_type": "code",
      "execution_count": 57,
      "metadata": {
        "colab": {
          "base_uri": "https://localhost:8080/"
        },
        "id": "nvTruzJJUdnz",
        "outputId": "d213d1ac-8e3f-4b65-f9b4-e7644fb89f6b"
      },
      "outputs": [
        {
          "name": "stdout",
          "output_type": "stream",
          "text": [
            "Merged Dictionary: {'a': 1, 'b': 2, 'c': 3, 'd': 4}\n"
          ]
        }
      ],
      "source": [
        "#  55) Write a Python script to merge two Python dictionaries\n",
        "\n",
        "dict1 = {'a': 1, 'b': 2}\n",
        "dict2 = {'c': 3, 'd': 4}\n",
        "\n",
        "dict1.update(dict2)\n",
        "\n",
        "print(\"Merged Dictionary:\", dict1)\n"
      ]
    },
    {
      "cell_type": "code",
      "execution_count": 58,
      "metadata": {
        "colab": {
          "base_uri": "https://localhost:8080/"
        },
        "id": "eT6SH_2mUgu_",
        "outputId": "715ad4ba-8055-4ce6-9a95-1ca8592aeac0"
      },
      "outputs": [
        {
          "name": "stdout",
          "output_type": "stream",
          "text": [
            "Mapped Dictionary as Counter: Counter({'a': 400, 'b': 400, 'd': 400, 'c': 300})\n"
          ]
        }
      ],
      "source": [
        "#   56) Write a Python program to map two lists into a dictionary\n",
        "from collections import Counter\n",
        "\n",
        "\n",
        "keys = ['a', 'b', 'c', 'd']\n",
        "values = [400, 400, 300, 400]\n",
        "zipped = zip(keys, values)\n",
        "\n",
        "result = Counter(dict(zipped))\n",
        "\n",
        "# Print result\n",
        "print(\"Mapped Dictionary as Counter:\", result)\n"
      ]
    },
    {
      "cell_type": "code",
      "execution_count": 59,
      "metadata": {
        "colab": {
          "base_uri": "https://localhost:8080/"
        },
        "id": "MlJwHHYhVAjX",
        "outputId": "062cf38d-fc27-4dd7-9421-22fd934e6a18"
      },
      "outputs": [
        {
          "name": "stdout",
          "output_type": "stream",
          "text": [
            "Top 3 highest values: [400, 300, 250]\n"
          ]
        }
      ],
      "source": [
        " # 57) Write a Python program to find the highest 3 values in a dictionary\n",
        "\n",
        " my_dict = {'a': 100, 'b': 300, 'c': 200, 'd': 400, 'e': 250}\n",
        "\n",
        " top_3_values = sorted(my_dict.values(), reverse=True)[:3]\n",
        "\n",
        " print(\"Top 3 highest values:\", top_3_values)\n",
        "\n",
        "\n"
      ]
    },
    {
      "cell_type": "code",
      "execution_count": 60,
      "metadata": {
        "colab": {
          "base_uri": "https://localhost:8080/"
        },
        "id": "Gf7xpasgVUpJ",
        "outputId": "3c2101de-0a35-46c3-f349-0010a64c7781"
      },
      "outputs": [
        {
          "name": "stdout",
          "output_type": "stream",
          "text": [
            "Combined amounts: Counter({'item1': 1150, 'item2': 300})\n"
          ]
        }
      ],
      "source": [
        "#  58) Write a Python program to combine values in python list of dictionaries.\n",
        "# Sample data: [{'item': 'item1', 'amount': 400}, {'item': 'item2', 'amount':\n",
        "# 300}, o {'item': 'item1', 'amount': 750}]\n",
        "\n",
        "from collections import Counter\n",
        "\n",
        "# List of dictionaries\n",
        "data = [\n",
        "    {'item': 'item1', 'amount': 400},\n",
        "    {'item': 'item2', 'amount': 300},\n",
        "    {'item': 'item1', 'amount': 750}\n",
        "]\n",
        "\n",
        "\n",
        "result = Counter()\n",
        "\n",
        "for entry in data:\n",
        "    result[entry['item']] += entry['amount']\n",
        "\n",
        "print(\"Combined amounts:\", result)\n"
      ]
    },
    {
      "cell_type": "code",
      "execution_count": 62,
      "metadata": {
        "colab": {
          "base_uri": "https://localhost:8080/"
        },
        "id": "_3YNAx77ViR2",
        "outputId": "793122f8-6a80-4e13-edb8-837e351e925a"
      },
      "outputs": [
        {
          "name": "stdout",
          "output_type": "stream",
          "text": [
            "Character frequency dictionary: {'w': 1, '3': 1, 'r': 2, 'e': 2, 's': 1, 'o': 1, 'u': 1, 'c': 1}\n"
          ]
        }
      ],
      "source": [
        "\n",
        "# 59) Write a Python program to create a dictionary from a string. Note: Track the count of the letters from the string.\n",
        "\n",
        "\n",
        "input_str = 'w3resource'\n",
        "char_count = {}\n",
        "\n",
        "for char in input_str:\n",
        "    if char in char_count:\n",
        "        char_count[char] += 1\n",
        "    else:\n",
        "        char_count[char] = 1\n",
        "\n",
        "print(\"Character frequency dictionary:\", char_count)\n"
      ]
    },
    {
      "cell_type": "code",
      "execution_count": 63,
      "metadata": {
        "colab": {
          "base_uri": "https://localhost:8080/"
        },
        "id": "M33qSfqrV_KM",
        "outputId": "4e46583d-f3ed-4edb-8073-ec040c9e6366"
      },
      "outputs": [
        {
          "name": "stdout",
          "output_type": "stream",
          "text": [
            "Factorial of 5 is: 120\n"
          ]
        }
      ],
      "source": [
        "# 61) Write a Python function to calculate the factorial of a number (a nonnegative integer)\n",
        "\n",
        "def factorial(n):\n",
        "    if n < 0:\n",
        "        return \"Factorial is not defined for negative numbers.\"\n",
        "\n",
        "    result = 1\n",
        "    for i in range(1, n + 1):\n",
        "        result *= i\n",
        "\n",
        "    return result\n",
        "\n",
        "# Test the function\n",
        "num = 5\n",
        "print(f\"Factorial of {num} is:\", factorial(num))\n"
      ]
    },
    {
      "cell_type": "code",
      "execution_count": 66,
      "metadata": {
        "colab": {
          "base_uri": "https://localhost:8080/"
        },
        "id": "4QVHRWWOWgeW",
        "outputId": "f3faca8f-51f1-4366-a313-e961aa7f9506"
      },
      "outputs": [
        {
          "name": "stdout",
          "output_type": "stream",
          "text": [
            "5 : is in the range 1 to 10.\n",
            "15 : is NOT in the range 1 to 10.\n"
          ]
        }
      ],
      "source": [
        "# 62) Write a Python function to check whether a number is in a given range\n",
        "\n",
        "def check_in_range(number, start, end):\n",
        "    if number in range(start, end + 1):\n",
        "        return f\"{number} : is in the range {start} to {end}.\"\n",
        "    else:\n",
        "        return f\"{number} : is NOT in the range {start} to {end}.\"\n",
        "\n",
        "\n",
        "print(check_in_range(5, 1, 10))\n",
        "print(check_in_range(15, 1, 10))\n",
        "\n"
      ]
    },
    {
      "cell_type": "code",
      "execution_count": 72,
      "metadata": {
        "colab": {
          "base_uri": "https://localhost:8080/"
        },
        "id": "j3GXFFh4WvaJ",
        "outputId": "7ed59508-9a4f-45a5-d751-b7cfb2157bd0"
      },
      "outputs": [
        {
          "name": "stdout",
          "output_type": "stream",
          "text": [
            "6 is a perfect number.\n",
            "28 is a perfect number.\n",
            "12 is not a perfect number.\n"
          ]
        }
      ],
      "source": [
        "# 63) Write a Python function to check whether a number is perfect or not..\n",
        "\n",
        "#  Examples:\n",
        "# 6 : 1 + 2 + 3 = 6\n",
        "#28 : 1 + 2 + 4 + 7 + 14 = 28\n",
        "\n",
        "def is_perfect(number):\n",
        "    if number < 1:\n",
        "        return \"Enter a positive integer.\"\n",
        "\n",
        "    sum_of_divisors = 0\n",
        "\n",
        "    for i in range(1, number):\n",
        "        if number % i == 0:\n",
        "            sum_of_divisors += i\n",
        "\n",
        "    if sum_of_divisors == number:\n",
        "        return f\"{number} is a perfect number.\"\n",
        "    else:\n",
        "        return f\"{number} is not a perfect number.\"\n",
        "\n",
        "\n",
        "print(is_perfect(6))\n",
        "print(is_perfect(28))\n",
        "print(is_perfect(12))\n"
      ]
    },
    {
      "cell_type": "code",
      "execution_count": 75,
      "metadata": {
        "colab": {
          "base_uri": "https://localhost:8080/"
        },
        "id": "-JCFxJHOXBMS",
        "outputId": "50eea470-c42c-4bef-de60-2c148bd43437"
      },
      "outputs": [
        {
          "name": "stdout",
          "output_type": "stream",
          "text": [
            "'madam' is a palindrome.\n",
            "'Racecar' is a palindrome.\n",
            "'Python' is not a palindrome.\n",
            "'A man a plan a canal Panama' is a palindrome.\n",
            "'ajay' is not a palindrome.\n"
          ]
        }
      ],
      "source": [
        "# 64) Write a Python function that checks whether a passed string is palindrome or not\n",
        "\n",
        "\n",
        "def is_palindrome(text):\n",
        "    # Remove spaces and convert to lowercase\n",
        "    cleaned = text.replace(\" \", \"\").lower()\n",
        "\n",
        "    # Check if reversed string is same as original\n",
        "    if cleaned == cleaned[::-1]:\n",
        "        return f\"'{text}' is a palindrome.\"\n",
        "    else:\n",
        "        return f\"'{text}' is not a palindrome.\"\n",
        "\n",
        "\n",
        "print(is_palindrome(\"madam\"))\n",
        "print(is_palindrome(\"Racecar\"))\n",
        "print(is_palindrome(\"Python\"))\n",
        "print(is_palindrome(\"A man a plan a canal Panama\"))\n",
        "print(is_palindrome(\"ajay\"))\n",
        "\n",
        "\n"
      ]
    },
    {
      "cell_type": "code",
      "execution_count": null,
      "metadata": {
        "id": "0sni7B-CX0nX"
      },
      "outputs": [],
      "source": [
        "# 65) How Many Basic Types of Functions Are Available in Python?\n",
        "# There are two basic types of functions in Python\n",
        "#Built-in Functions:\n",
        "#These are functions that are predefined in Python.\n",
        "#You can use them directly without defining them\n",
        "#2️ User-defined Functions:\n",
        "#These are functions that you create using the def keyword.\n",
        "#Used to reuse code and organize logic\n"
      ]
    },
    {
      "cell_type": "code",
      "execution_count": null,
      "metadata": {
        "id": "naGNqk6kYgwM"
      },
      "outputs": [],
      "source": [
        "# 66) How can you pick a random item from a list or tuple?\n",
        "\n",
        "#You can use the random module's choice() function to pick a random item from a list or tuple."
      ]
    },
    {
      "cell_type": "code",
      "execution_count": 76,
      "metadata": {
        "colab": {
          "base_uri": "https://localhost:8080/"
        },
        "id": "1gm8kmUaYzpH",
        "outputId": "5326335d-3685-439b-af42-d83c98f3f1c5"
      },
      "outputs": [
        {
          "name": "stdout",
          "output_type": "stream",
          "text": [
            "Random item from range: 3\n"
          ]
        }
      ],
      "source": [
        "#67) How can you pick a random item from a range?\n",
        "# To pick a random item from a range, you can use the random.choice() function from the random module.\n",
        "\n",
        "\n",
        "import random\n",
        "\n",
        "# Define a range from 1 to 10\n",
        "my_range = range(1, 11)\n",
        "\n",
        "# Pick a random item\n",
        "random_item = random.choice(my_range)\n",
        "\n",
        "print(\"Random item from range:\", random_item)\n"
      ]
    },
    {
      "cell_type": "code",
      "execution_count": 77,
      "metadata": {
        "colab": {
          "base_uri": "https://localhost:8080/"
        },
        "id": "696mmUhJY7F4",
        "outputId": "49670e0f-601a-4d04-b913-cc051d53c808"
      },
      "outputs": [
        {
          "name": "stdout",
          "output_type": "stream",
          "text": [
            "Random Integer: 35\n"
          ]
        }
      ],
      "source": [
        "# 68) How can you get a random number in python?\n",
        "\n",
        "# by using random module\n",
        "\n",
        "\n",
        "# Random number between 1 and 100 (both included)\n",
        "num = random.randint(1, 100)\n",
        "print(\"Random Integer:\", num)\n"
      ]
    },
    {
      "cell_type": "code",
      "execution_count": 78,
      "metadata": {
        "colab": {
          "base_uri": "https://localhost:8080/"
        },
        "id": "6a4lPSBDZIx6",
        "outputId": "21a3acd0-8d50-450b-dd62-18cfd4eece7e"
      },
      "outputs": [
        {
          "name": "stdout",
          "output_type": "stream",
          "text": [
            "82\n",
            "0.11133106816568039\n"
          ]
        }
      ],
      "source": [
        "# 69) How will you set the starting value in generating random numbers?\n",
        "\n",
        "#You can set the starting value (seed) using the random.seed() function from the random module\n",
        "\n",
        "import random\n",
        "\n",
        "# Set the seed (starting value)\n",
        "random.seed(42)\n",
        "\n",
        "# Generate random numbers\n",
        "print(random.randint(1, 100))\n",
        "print(random.random())\n"
      ]
    },
    {
      "cell_type": "code",
      "execution_count": 79,
      "metadata": {
        "colab": {
          "base_uri": "https://localhost:8080/"
        },
        "id": "SgsJZ0K5ZTE5",
        "outputId": "c6c0a8a8-a33e-4919-cef1-0c2e92e6de05"
      },
      "outputs": [
        {
          "name": "stdout",
          "output_type": "stream",
          "text": [
            "Shuffled List: [4, 5, 1, 2, 3]\n"
          ]
        }
      ],
      "source": [
        "# 70) How will you randomize the items of a list in place?\n",
        "#You can use random.shuffle() to shuffle the items of a list in place, meaning it modifies the original list directly (no return value).\n",
        "\n",
        "\n",
        "import random\n",
        "\n",
        "# Original list\n",
        "my_list = [1, 2, 3, 4, 5]\n",
        "\n",
        "# Shuffle the list in place\n",
        "random.shuffle(my_list)\n",
        "\n",
        "# Print the shuffled list\n",
        "print(\"Shuffled List:\", my_list)\n"
      ]
    },
    {
      "cell_type": "code",
      "execution_count": null,
      "metadata": {
        "id": "_EQcsZK1ZdbU"
      },
      "outputs": [],
      "source": [
        "#  71) What is File function in python? What are keywords to create and write file.\n",
        "\n",
        "\n",
        "# In Python, file functions are built-in functions used to create, read, write, and modify files stored on your computer.\n",
        "#You use the built-in open() function to work with files.\n",
        "\n",
        "#Basic File Functions/Methods in Python:\n",
        "#Function =\tDescription\n",
        "#open()=\tOpens a file\n",
        "#read()\t=Reads content from a file\n",
        "#write()=\tWrites content to a file\n",
        "#close() =\tCloses the file\n",
        "#readline()\t = Reads one line at a time\n",
        "#writelines() = \tWrites a list of lines to a file\n",
        "#seek()\t= Moves the file pointer\n",
        "#tell() = \tTells the current position\n",
        "\n",
        "# File Modes (Keywords) to Open/Create/Write a File:\n",
        "#Mode\tMeaning\n",
        "#'r' = \tRead (default), file must exist\n",
        "#'w' = \tWrite, creates file if not exists, overwrites if exists\n",
        "#'a' = \tAppend, adds to the end of file\n",
        "#'x' = \tCreate a new file, fails if file exists\n",
        "#'b' = Binary mode (rb, wb, etc.)\n",
        "#'t' = \tText mode (default\n"
      ]
    },
    {
      "cell_type": "code",
      "execution_count": 83,
      "metadata": {
        "colab": {
          "base_uri": "https://localhost:8080/"
        },
        "id": "q2i9Cl20acDW",
        "outputId": "c3285560-ccb5-4c92-aca4-7cfc7490a9ec"
      },
      "outputs": [
        {
          "name": "stdout",
          "output_type": "stream",
          "text": [
            "File content:\n",
            "\n",
            ",name,Age,city\n",
            "0,ajay,25,surat\n",
            "1,hardik,27,ahemdabad\n",
            "2,jay,26,patan\n",
            "3,rahul,22,div\n",
            "\n"
          ]
        }
      ],
      "source": [
        "# 72) Write a Python program to read an entire text file.\n",
        "\n",
        "# Open the file in read mode\n",
        "file = open(\"//content/friends.csv\", \"r\")\n",
        "\n",
        "# Read the entire content\n",
        "content = file.read()\n",
        "\n",
        "# Print the content\n",
        "print(\"File content:\\n\")\n",
        "print(content)\n",
        "\n",
        "# Close the file\n",
        "file.close()\n"
      ]
    },
    {
      "cell_type": "code",
      "execution_count": 84,
      "metadata": {
        "colab": {
          "base_uri": "https://localhost:8080/"
        },
        "id": "_NI9F3zsag7Z",
        "outputId": "6b7a2924-7ec7-4a4c-f092-a2380bd26d2f"
      },
      "outputs": [
        {
          "name": "stdout",
          "output_type": "stream",
          "text": [
            "Updated File Content:\n",
            "\n",
            ",name,Age,city\n",
            "0,ajay,25,surat\n",
            "1,hardik,27,ahemdabad\n",
            "2,jay,26,patan\n",
            "3,rahul,22,div\n",
            "\n",
            "This line is added using append mode.\n"
          ]
        }
      ],
      "source": [
        "# 73) Write a Python program to append text to a file and display the text.\n",
        "\n",
        "\n",
        "\n",
        "with open(\"/content/friends.csv\", \"a\") as file:\n",
        "    file.write(\"\\nThis line is added using append mode.\")\n",
        "\n",
        "\n",
        "with open(\"/content/friends.csv\", \"r\") as file:\n",
        "    content = file.read()\n",
        "    print(\"Updated File Content:\\n\")\n",
        "    print(content)\n",
        "\n"
      ]
    },
    {
      "cell_type": "code",
      "execution_count": 86,
      "metadata": {
        "colab": {
          "base_uri": "https://localhost:8080/"
        },
        "id": "Mc0ImJTtbS5N",
        "outputId": "ea558f93-4abf-406a-f585-4c991ddd26ef"
      },
      "outputs": [
        {
          "name": "stdout",
          "output_type": "stream",
          "text": [
            ",name,Age,city\n",
            "0,ajay,25,surat\n"
          ]
        }
      ],
      "source": [
        "# 74) Write a Python program to read first n lines of a file.\n",
        "\n",
        "def read_first_n_lines(filename, n):\n",
        "    with open(filename, 'r') as file:\n",
        "        for i in range(n):\n",
        "            line = file.readline()\n",
        "            if line == '':\n",
        "                break\n",
        "            print(line.strip())\n",
        "\n",
        "\n",
        "read_first_n_lines(\"/content/friends.csv\", 2)"
      ]
    },
    {
      "cell_type": "code",
      "execution_count": 88,
      "metadata": {
        "colab": {
          "base_uri": "https://localhost:8080/"
        },
        "id": "Z9Wgw5H0biZ4",
        "outputId": "5c6b66ab-7949-493e-d51e-2a5d5e30495a"
      },
      "outputs": [
        {
          "name": "stdout",
          "output_type": "stream",
          "text": [
            "3,rahul,22,div\n",
            "\n",
            "This line is added using append mode.\n"
          ]
        }
      ],
      "source": [
        "#75) Write a Python program to read last n lines of a file.\n",
        "def read_last_n_lines(filename, n):\n",
        "    with open(filename, 'r') as file:\n",
        "        lines = file.readlines()\n",
        "\n",
        "        for line in lines[-n:]:\n",
        "            print(line.strip())\n",
        "\n",
        "read_last_n_lines(\"/content/friends.csv\", 3)\n"
      ]
    },
    {
      "cell_type": "code",
      "execution_count": 90,
      "metadata": {
        "colab": {
          "base_uri": "https://localhost:8080/"
        },
        "id": "CNhe2m2Eb080",
        "outputId": "cab84285-a693-4a93-cece-843dffea9167"
      },
      "outputs": [
        {
          "name": "stdout",
          "output_type": "stream",
          "text": [
            "File lines stored in list:\n",
            "[',name,Age,city', '0,ajay,25,surat', '1,hardik,27,ahemdabad', '2,jay,26,patan', '3,rahul,22,div', '', 'This line is added using append mode.']\n"
          ]
        }
      ],
      "source": [
        "# 76) Write a Python program to read a file line by line and store it into a list\n",
        "\n",
        "def read_file_to_list(filename):\n",
        "    with open(filename, 'r') as file:\n",
        "        lines = [line.strip() for line in file]\n",
        "    return lines\n",
        "\n",
        "\n",
        "file_lines = read_file_to_list(\"/content/friends.csv\")\n",
        "\n",
        "\n",
        "print(\"File lines stored in list:\")\n",
        "print(file_lines)\n"
      ]
    },
    {
      "cell_type": "code",
      "execution_count": 91,
      "metadata": {
        "colab": {
          "base_uri": "https://localhost:8080/"
        },
        "id": "fZYND-NmcEHb",
        "outputId": "5bc77cc1-b3f4-4e05-bd21-679db7b26fee"
      },
      "outputs": [
        {
          "name": "stdout",
          "output_type": "stream",
          "text": [
            "File content stored in a variable:\n",
            "\n",
            ",name,Age,city\n",
            "0,ajay,25,surat\n",
            "1,hardik,27,ahemdabad\n",
            "2,jay,26,patan\n",
            "3,rahul,22,div\n",
            "\n",
            "This line is added using append mode.\n"
          ]
        }
      ],
      "source": [
        "#  77) Write a Python program to read a file line by line store it into a variable.\n",
        "\n",
        "def read_file_to_variable(filename):\n",
        "    with open(filename, 'r') as file:\n",
        "        content = \"\"\n",
        "        for line in file:\n",
        "            content += line\n",
        "    return content\n",
        "\n",
        "\n",
        "file_content = read_file_to_variable(\"/content/friends.csv\")\n",
        "\n",
        "\n",
        "print(\"File content stored in a variable:\\n\")\n",
        "print(file_content)\n"
      ]
    },
    {
      "cell_type": "code",
      "execution_count": 92,
      "metadata": {
        "colab": {
          "base_uri": "https://localhost:8080/"
        },
        "id": "PGQ_KQ0DcS9N",
        "outputId": "1234087d-5a35-4caa-9b68-eaee3135f6e0"
      },
      "outputs": [
        {
          "name": "stdout",
          "output_type": "stream",
          "text": [
            "Longest word(s): ['1,hardik,27,ahemdabad']\n"
          ]
        }
      ],
      "source": [
        "# 78) Write a python program to find the longest words.\n",
        "\n",
        "\n",
        "def find_longest_words(filename):\n",
        "    with open(filename, 'r') as file:\n",
        "        words = file.read().split()\n",
        "        max_len = max(len(word) for word in words)\n",
        "        longest_words = [word for word in words if len(word) == max_len]\n",
        "    return longest_words\n",
        "\n",
        "\n",
        "longest = find_longest_words(\"/content/friends.csv\")\n",
        "\n",
        "print(\"Longest word(s):\", longest)\n"
      ]
    },
    {
      "cell_type": "code",
      "execution_count": 93,
      "metadata": {
        "colab": {
          "base_uri": "https://localhost:8080/"
        },
        "id": "UEz9nCkOcfj1",
        "outputId": "7aa3dd79-bae7-4e21-af31-89336dba806b"
      },
      "outputs": [
        {
          "name": "stdout",
          "output_type": "stream",
          "text": [
            "Total number of lines: 7\n"
          ]
        }
      ],
      "source": [
        "# 79) Write a Python program to count the number of lines in a text file.\n",
        "\n",
        "def count_lines(filename):\n",
        "    with open(filename, 'r') as file:\n",
        "        lines = file.readlines()\n",
        "        return len(lines)\n",
        "\n",
        "total_lines = count_lines(\"/content/friends.csv\")\n",
        "print(\"Total number of lines:\", total_lines)\n"
      ]
    },
    {
      "cell_type": "code",
      "execution_count": 96,
      "metadata": {
        "colab": {
          "base_uri": "https://localhost:8080/"
        },
        "id": "nRv2FRE3cr3c",
        "outputId": "ea2e273b-0cee-41ef-e567-c5ee170f235e"
      },
      "outputs": [
        {
          "name": "stdout",
          "output_type": "stream",
          "text": [
            "Word Frequency:\n",
            "\n",
            "name: 1\n",
            "age: 1\n",
            "city: 1\n",
            "0: 1\n",
            "ajay: 1\n",
            "25: 1\n",
            "surat: 1\n",
            "1: 1\n",
            "hardik: 1\n",
            "27: 1\n",
            "ahemdabad: 1\n",
            "2: 1\n",
            "jay: 1\n",
            "26: 1\n",
            "patan: 1\n",
            "3: 1\n",
            "rahul: 1\n",
            "22: 1\n",
            "div: 1\n",
            "this: 1\n",
            "line: 1\n",
            "is: 1\n",
            "added: 1\n",
            "using: 1\n",
            "append: 1\n",
            "mode: 1\n"
          ]
        }
      ],
      "source": [
        "# 80) Write a Python program to count the frequency of words in a file.\n",
        "from collections import Counter\n",
        "import re\n",
        "\n",
        "def count_word_frequency(filename):\n",
        "    with open(filename, 'r') as file:\n",
        "        text = file.read().lower()\n",
        "        words = re.findall(r'\\b\\w+\\b', text)\n",
        "        word_freq = Counter(words)\n",
        "    return word_freq\n",
        "\n",
        "\n",
        "frequency = count_word_frequency(\"/content/friends.csv\")\n",
        "\n",
        "\n",
        "print(\"Word Frequency:\\n\")\n",
        "for word, count in frequency.items():\n",
        "    print(f\"{word}: {count}\")\n",
        "\n",
        "\n",
        "\n",
        "\n"
      ]
    },
    {
      "cell_type": "code",
      "execution_count": 98,
      "metadata": {
        "colab": {
          "base_uri": "https://localhost:8080/"
        },
        "id": "GljuXBWVc1t6",
        "outputId": "da5f2d5c-541c-43df-d89a-bc21f2410996"
      },
      "outputs": [
        {
          "name": "stdout",
          "output_type": "stream",
          "text": [
            "List written to file successfully.\n"
          ]
        }
      ],
      "source": [
        "# 81) Write a Python program to write a list to a file.\n",
        "\n",
        "data = [\"Ajay\", \"Rahul\", \"Sneha\", \"Ravi\"]\n",
        "def write_list_to_file(filename, data_list):\n",
        "    with open(filename, 'w') as file:\n",
        "        for item in data_list:\n",
        "            file.write(str(item) + '\\n')\n",
        "\n",
        "\n",
        "write_list_to_file(\"/content/output.txt\", data)\n",
        "\n",
        "print(\"List written to file successfully.\")\n",
        "\n"
      ]
    },
    {
      "cell_type": "code",
      "execution_count": 100,
      "metadata": {
        "colab": {
          "base_uri": "https://localhost:8080/"
        },
        "id": "JMS8QV4PdKfZ",
        "outputId": "bf5f9bab-aacf-46d8-a47b-1b1e9d530418"
      },
      "outputs": [
        {
          "name": "stdout",
          "output_type": "stream",
          "text": [
            "File copied successfully.\n"
          ]
        }
      ],
      "source": [
        "#82) Write a Python program to copy the contents of a file to another file.\n",
        "\n",
        "\n",
        "def copy_file(source_file, destination_file):\n",
        "    with open(source_file, 'r') as src:\n",
        "        content = src.read()\n",
        "\n",
        "    with open(destination_file, 'w') as dest:\n",
        "        dest.write(content)\n",
        "\n",
        "copy_file(\"/content/friends.csv\", \"/content/friends_copy.csv\")\n",
        "\n",
        "print(\"File copied successfully.\")\n"
      ]
    },
    {
      "cell_type": "code",
      "execution_count": 104,
      "metadata": {
        "colab": {
          "base_uri": "https://localhost:8080/"
        },
        "id": "5X-ZqTD8di2m",
        "outputId": "a62abd92-68f0-42d2-b8c7-58249fe03820"
      },
      "outputs": [
        {
          "name": "stdout",
          "output_type": "stream",
          "text": [
            "Enter a number: 0\n",
            " Cannot divide by zero!\n",
            "This runs no matter what (optional).\n"
          ]
        }
      ],
      "source": [
        "# 83) Explain Exception handling? What is an Error in Python?\n",
        "\n",
        "# An error is a problem in the program that causes it to crash or behave unexpectedly.Python errors are mainly of two types\n",
        "#🔹 1. Syntax Errors\n",
        "#Occur when Python can't parse your code because it breaks language rules\n",
        "\n",
        "#🔹 2. Exceptions (Runtime Errors)\n",
        "#Happen during program execution.\n",
        "\n",
        "#Example: Dividing by zero, accessing a missing file, using an undefined variable.\n",
        "# What is Exception Handling?\n",
        "#Exception Handling is the process of catching and handling errors using the try and except blocks — so your program doesn’t crash.\n",
        "\n",
        "# example :\n",
        "try:\n",
        "    # Code that might raise an exception\n",
        "    num = int(input(\"Enter a number: \"))\n",
        "    result = 10 / num\n",
        "    print(\"Result:\", result)\n",
        "\n",
        "except ZeroDivisionError:\n",
        "    print(\" Cannot divide by zero!\")\n",
        "\n",
        "except ValueError:\n",
        "    print(\"Invalid input! Please enter a number.\")\n",
        "\n",
        "except Exception as e:\n",
        "    print(\"Something went wrong:\", e)\n",
        "\n",
        "finally:\n",
        "    print(\"This runs no matter what (optional).\")\n"
      ]
    },
    {
      "cell_type": "code",
      "execution_count": 105,
      "metadata": {
        "id": "hwUCNNjEeCyu"
      },
      "outputs": [],
      "source": [
        "# 84) How many except statements can a try-except block have? Name Some built-in exception classes:\n",
        "\n",
        "#You can have as many except statements as needed in a try-except block to handle different types of exceptions\n",
        "#Exception Name\t     =  Description\n",
        "#ZeroDivisionError=  =\tDivision by zero\n",
        "#ValueError          = \tInvalid value (e.g. converting text to int)\n",
        "#TypeError           =  Wrong data type (e.g. adding int + str)\n",
        "#ndexError           =\tIndex out of range in lists or strings\n",
        "#KeyError\t           =  Accessing a non-existent dictionary key\n",
        "#FileNotFoundError   = \tFile not found while trying to open it\n",
        "#ImportError\t       =  Module can’t be imported\n",
        "#AttributeError\t     =  Invalid object attribute access\n",
        "#NameError\t         =  Variable or function name not defined\n",
        "#RuntimeError\t       =  Unspecified runtime error\n",
        "#StopIteration       =\tRaised by iterators when no more items"
      ]
    },
    {
      "cell_type": "code",
      "execution_count": 106,
      "metadata": {
        "id": "um9OWQaFfoJw"
      },
      "outputs": [],
      "source": [
        "# 85) When will the else part of try-except-else be executed?\n",
        "\n",
        "#The else block in a try-except-else structure is executed only if:\n",
        "\n",
        "#No exception occurs in the try block"
      ]
    },
    {
      "cell_type": "code",
      "execution_count": 108,
      "metadata": {
        "colab": {
          "base_uri": "https://localhost:8080/"
        },
        "id": "-201FETdf_NE",
        "outputId": "0eb4ca7e-171c-4b59-b6af-59e02e00e6e7"
      },
      "outputs": [
        {
          "name": "stdout",
          "output_type": "stream",
          "text": [
            "Enter a number: 20\n",
            "Result: 0.5\n"
          ]
        }
      ],
      "source": [
        "# 86) Can one block of except statements handle multiple exception?\n",
        "# Yes, a single except block can handle multiple exceptions by using a tuple of exception types.\n",
        "# example\n",
        "\n",
        "try:\n",
        "    num = int(input(\"Enter a number: \"))\n",
        "    result = 10 / num\n",
        "    print(\"Result:\", result)\n",
        "\n",
        "except (ZeroDivisionError, ValueError):\n",
        "    print(\" Either division by zero or invalid input.\")\n"
      ]
    },
    {
      "cell_type": "code",
      "execution_count": 111,
      "metadata": {
        "colab": {
          "base_uri": "https://localhost:8080/"
        },
        "id": "RnSL4FaIgQRO",
        "outputId": "9dd08698-9b70-4b59-f8d0-93b8402f6984"
      },
      "outputs": [
        {
          "name": "stdout",
          "output_type": "stream",
          "text": [
            "Result: 5.0\n",
            "This always runs.\n",
            "Cannot divide by zero.\n",
            "This always runs.\n"
          ]
        }
      ],
      "source": [
        "# 87) When is the finally block executed?\n",
        "\n",
        "# The finally block is always executed, no matter what happens in the try or except blocks\n",
        "\n",
        "# It runs:\n",
        "#If no exception occurs\n",
        "#If an exception is caught in except\n",
        "#If the program exits early with return or break\n",
        "#Even if there’s an uncaught exception\n",
        "\n",
        "# example:\n",
        "def divide(a, b):\n",
        "    try:\n",
        "        result = a / b\n",
        "        print(\"Result:\", result)\n",
        "    except ZeroDivisionError:\n",
        "        print(\"Cannot divide by zero.\")\n",
        "    finally:\n",
        "        print(\"This always runs.\")\n",
        "\n",
        "divide(10, 2)\n",
        "divide(5, 0)\n"
      ]
    },
    {
      "cell_type": "code",
      "execution_count": 112,
      "metadata": {
        "colab": {
          "base_uri": "https://localhost:8080/"
        },
        "id": "zZU_9Scxg8G0",
        "outputId": "a72424ae-3afb-4dbe-83cb-a9fa0741c913"
      },
      "outputs": [
        {
          "data": {
            "text/plain": [
              "False"
            ]
          },
          "execution_count": 112,
          "metadata": {},
          "output_type": "execute_result"
        }
      ],
      "source": [
        "# 88) What happens when „1‟== 1 is executed?\n",
        "\n",
        "\"1\" == 1"
      ]
    },
    {
      "cell_type": "code",
      "execution_count": 113,
      "metadata": {
        "colab": {
          "base_uri": "https://localhost:8080/"
        },
        "id": "jasHjnlyhI1a",
        "outputId": "158bb520-83d8-468f-a3c4-4a3dbe7b494b"
      },
      "outputs": [
        {
          "name": "stdout",
          "output_type": "stream",
          "text": [
            "Enter numerator: 10\n",
            "Enter denominator: 20\n",
            "Result: 0.5\n",
            "Finished processing. (finally block executed)\n"
          ]
        }
      ],
      "source": [
        "# 89) How Do You Handle Exceptions with Try/Except/Finally in Python? Explain with coding snippets.\n",
        "\n",
        "def divide_numbers():\n",
        "    try:\n",
        "        num1 = int(input(\"Enter numerator: \"))\n",
        "        num2 = int(input(\"Enter denominator: \"))\n",
        "        result = num1 / num2\n",
        "        print(\"Result:\", result)\n",
        "\n",
        "    except ZeroDivisionError:\n",
        "        print(\"Error: Cannot divide by zero.\")\n",
        "\n",
        "    except ValueError:\n",
        "        print(\"Error: Invalid input. Please enter numeric values.\")\n",
        "\n",
        "    finally:\n",
        "        print(\"Finished processing. (finally block executed)\")\n",
        "\n",
        "divide_numbers()\n"
      ]
    },
    {
      "cell_type": "code",
      "execution_count": 114,
      "metadata": {
        "colab": {
          "base_uri": "https://localhost:8080/"
        },
        "id": "djyNOvr-hZfB",
        "outputId": "ac2d2d4a-48ae-4305-fb7a-ef87d9418594"
      },
      "outputs": [
        {
          "name": "stdout",
          "output_type": "stream",
          "text": [
            "Enter numerator: 10\n",
            "Enter denominator: 0\n",
            "Error: Cannot divide by zero.\n",
            "Finished processing. (finally block executed)\n"
          ]
        }
      ],
      "source": [
        "divide_numbers()"
      ]
    },
    {
      "cell_type": "code",
      "execution_count": 115,
      "metadata": {
        "colab": {
          "base_uri": "https://localhost:8080/"
        },
        "id": "QF22yWPyheD_",
        "outputId": "18baa03b-233b-4675-8a48-c07ff72cbbd3"
      },
      "outputs": [
        {
          "name": "stdout",
          "output_type": "stream",
          "text": [
            "Enter numerator: ten\n",
            "Error: Invalid input. Please enter numeric values.\n",
            "Finished processing. (finally block executed)\n"
          ]
        }
      ],
      "source": [
        "divide_numbers()\n"
      ]
    },
    {
      "cell_type": "code",
      "execution_count": 116,
      "metadata": {
        "colab": {
          "base_uri": "https://localhost:8080/"
        },
        "id": "tvCPuEayhjOG",
        "outputId": "0a5b393c-e3c0-4b4e-b1b6-aa138fb9f4ec"
      },
      "outputs": [
        {
          "name": "stdout",
          "output_type": "stream",
          "text": [
            "Enter an odd number: 5\n",
            "Thank you! You entered an odd number: 5\n"
          ]
        }
      ],
      "source": [
        "# 90) Write python program that user to enter only odd numbers, else will raise an exception.\n",
        "def check_odd():\n",
        "    try:\n",
        "        num = int(input(\"Enter an odd number: \"))\n",
        "        if num % 2 == 0:\n",
        "            raise ValueError(\" That is not an odd number!\")\n",
        "        print(\"Thank you! You entered an odd number:\", num)\n",
        "    except ValueError as ve:\n",
        "        print(\"Exception:\", ve)\n",
        "\n",
        "\n",
        "check_odd()\n"
      ]
    },
    {
      "cell_type": "code",
      "execution_count": 117,
      "metadata": {
        "colab": {
          "base_uri": "https://localhost:8080/"
        },
        "id": "J3cQdnfDhxmK",
        "outputId": "1ebd9e63-2cb9-47b4-f745-e6c72e2c19cc"
      },
      "outputs": [
        {
          "name": "stdout",
          "output_type": "stream",
          "text": [
            "Enter an odd number: 4\n",
            "Exception:  That is not an odd number!\n"
          ]
        }
      ],
      "source": [
        "check_odd()"
      ]
    },
    {
      "cell_type": "code",
      "execution_count": null,
      "metadata": {
        "id": "HpvScc9sh09G"
      },
      "outputs": [],
      "source": []
    }
  ],
  "metadata": {
    "colab": {
      "provenance": []
    },
    "kernelspec": {
      "display_name": "Python 3",
      "name": "python3"
    },
    "language_info": {
      "name": "python"
    }
  },
  "nbformat": 4,
  "nbformat_minor": 0
}
